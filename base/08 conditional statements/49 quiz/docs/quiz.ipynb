{
 "cells": [
  {
   "cell_type": "markdown",
   "id": "thirty-marker",
   "metadata": {},
   "source": [
    "## [10 Soru] QUIZ - Şartlı İfadeler"
   ]
  },
  {
   "cell_type": "markdown",
   "id": "ancient-section",
   "metadata": {},
   "source": [
    "**Soru 1:**\n",
    "\n",
    "Kullanıcı tarafından girilen bir saynının tek mi çift mi olduğunu bulun."
   ]
  },
  {
   "cell_type": "code",
   "execution_count": 2,
   "id": "egyptian-proxy",
   "metadata": {},
   "outputs": [
    {
     "name": "stdin",
     "output_type": "stream",
     "text": [
      "Lütfen bir sayı giriniz:  9\n"
     ]
    },
    {
     "name": "stdout",
     "output_type": "stream",
     "text": [
      "9 tek.\n"
     ]
    }
   ],
   "source": [
    "# Çözüm 1:\n",
    "\n"
   ]
  },
  {
   "cell_type": "markdown",
   "id": "elect-personal",
   "metadata": {},
   "source": [
    "---"
   ]
  },
  {
   "cell_type": "markdown",
   "id": "tribal-swift",
   "metadata": {},
   "source": [
    "**Soru 2:**\n",
    "\n",
    "Kullanıcı tarafından girilen bir harfin sesli mi yoksa sessiz mi olduğunu bulalım."
   ]
  },
  {
   "cell_type": "code",
   "execution_count": 6,
   "id": "dominant-viewer",
   "metadata": {},
   "outputs": [
    {
     "name": "stdin",
     "output_type": "stream",
     "text": [
      "Lütfen bir harf giriniz:  d\n"
     ]
    },
    {
     "name": "stdout",
     "output_type": "stream",
     "text": [
      "SESSİZ HARF d\n"
     ]
    }
   ],
   "source": [
    "# Çözüm 2:\n",
    "\n"
   ]
  },
  {
   "cell_type": "markdown",
   "id": "herbal-cloud",
   "metadata": {},
   "source": [
    "---"
   ]
  },
  {
   "cell_type": "markdown",
   "id": "traditional-objective",
   "metadata": {},
   "source": [
    "**Soru 3:**\n",
    "\n",
    "Kullanıcı tarafından girilen kenar sayısına göre hangi şekil oldunu dönen bir fonksiyon yazın."
   ]
  },
  {
   "cell_type": "code",
   "execution_count": 7,
   "id": "color-toner",
   "metadata": {},
   "outputs": [],
   "source": [
    "# Çözüm 3:\n",
    "\n",
    "    "
   ]
  },
  {
   "cell_type": "code",
   "execution_count": 10,
   "id": "overall-blame",
   "metadata": {},
   "outputs": [
    {
     "name": "stdin",
     "output_type": "stream",
     "text": [
      "Lütfen Kenar Sayısını girin:  9\n"
     ]
    },
    {
     "name": "stdout",
     "output_type": "stream",
     "text": [
      "ÇOKGEN\n"
     ]
    }
   ],
   "source": [
    "sekil_adi = hangi_sekil()\n",
    "print(sekil_adi)"
   ]
  },
  {
   "cell_type": "markdown",
   "id": "manual-perth",
   "metadata": {},
   "source": [
    "---"
   ]
  },
  {
   "cell_type": "markdown",
   "id": "appropriate-simon",
   "metadata": {},
   "source": [
    "**Soru 4:**\n",
    "\n",
    "Bir aydaki gün sayısını ekrana yazdırın. Ay'ın adını kullanıcı belirleyecek."
   ]
  },
  {
   "cell_type": "code",
   "execution_count": 14,
   "id": "confused-entertainment",
   "metadata": {},
   "outputs": [],
   "source": [
    "# Çözüm 4:\n",
    "\n"
   ]
  },
  {
   "cell_type": "code",
   "execution_count": 16,
   "id": "banner-enlargement",
   "metadata": {},
   "outputs": [
    {
     "name": "stdin",
     "output_type": "stream",
     "text": [
      "Lütfen ay adı giriniz:  Ağustos\n"
     ]
    },
    {
     "data": {
      "text/plain": [
       "'Ağustos ayı içinde 31 gün vardır.'"
      ]
     },
     "execution_count": 16,
     "metadata": {},
     "output_type": "execute_result"
    }
   ],
   "source": [
    "ay_icindeki_gun_sayisi()"
   ]
  },
  {
   "cell_type": "markdown",
   "id": "temporal-vacuum",
   "metadata": {},
   "source": [
    "---"
   ]
  },
  {
   "cell_type": "markdown",
   "id": "dying-hydrogen",
   "metadata": {},
   "source": [
    "**Soru 5:**\n",
    "\n",
    "Kenar uzunlukları verilen bir üçgenin adını ekrana yazan bir fonksiyon oluşturalım."
   ]
  },
  {
   "cell_type": "code",
   "execution_count": 17,
   "id": "italian-money",
   "metadata": {},
   "outputs": [],
   "source": [
    "# Çözüm 5:\n",
    "\n"
   ]
  },
  {
   "cell_type": "code",
   "execution_count": 20,
   "id": "fancy-jaguar",
   "metadata": {},
   "outputs": [
    {
     "name": "stdin",
     "output_type": "stream",
     "text": [
      "Birinci kenar uzunluğunu giriniz: 40\n",
      "İkinci kenar uzunluğunu giriniz: 40\n",
      "Üçüncü kenar uzunluğunu giriniz: 40\n"
     ]
    },
    {
     "name": "stdout",
     "output_type": "stream",
     "text": [
      "Eşkenar Üçgen\n"
     ]
    }
   ],
   "source": [
    "print(ucgenin_adi())"
   ]
  },
  {
   "cell_type": "markdown",
   "id": "cathedral-input",
   "metadata": {},
   "source": [
    "---"
   ]
  },
  {
   "cell_type": "markdown",
   "id": "recorded-lender",
   "metadata": {},
   "source": [
    "**Soru 6:**\n",
    "\n",
    "Ay ve Güne göre hangi meyvenin yeneceğini bilen bir fonksiyon yazalım.\n",
    "\n",
    "<pre>\n",
    "İlkbahar: Erik\n",
    "Yaz: Karpuz\n",
    "Sonbahar: Ayva\n",
    "Kış: Portakal\n",
    "</pre>"
   ]
  },
  {
   "cell_type": "code",
   "execution_count": 1,
   "id": "quarterly-nelson",
   "metadata": {},
   "outputs": [],
   "source": [
    "# Çözüm 6:\n",
    "\n"
   ]
  },
  {
   "cell_type": "code",
   "execution_count": 2,
   "id": "expressed-engagement",
   "metadata": {},
   "outputs": [
    {
     "name": "stdin",
     "output_type": "stream",
     "text": [
      "Ay adını giriniz:  Mart\n",
      "Gün numarasını giriniz:  24\n"
     ]
    },
    {
     "name": "stdout",
     "output_type": "stream",
     "text": [
      "Mart ayının 24 . günü Erik meyvesi yenir.\n"
     ]
    }
   ],
   "source": [
    "hangi_meyve_yenir()"
   ]
  },
  {
   "cell_type": "markdown",
   "id": "federal-private",
   "metadata": {},
   "source": [
    "---"
   ]
  },
  {
   "cell_type": "markdown",
   "id": "romantic-gambling",
   "metadata": {},
   "source": [
    "**Soru 7:**\n",
    "\n",
    "Kullanıcıdan C, Ç, P, S harflerinden birini isteyen bir fonksiyon yazalım.\n",
    "\n",
    "Bu harfler haftanın günlerinin başlangıcı olsun. Gelen harfe göre hangi gün olduğunu tahmin etmeye çalışalım. \n",
    "\n",
    "Harflere göre ek sorular:\n",
    "* C: \"hafta içi mi\" yoksa \"hafta sonu mu\"\n",
    "* P: \"hafta içi mi\" yoksa \"hafta sonu mu\"\n",
    "    * hafta içi: \"hafta başı mı\" yoksa \"hafta ortası mı\""
   ]
  },
  {
   "cell_type": "code",
   "execution_count": 4,
   "id": "increased-justice",
   "metadata": {},
   "outputs": [],
   "source": [
    "# Çözüm 7:\n",
    "  \n"
   ]
  },
  {
   "cell_type": "code",
   "execution_count": 10,
   "id": "random-oracle",
   "metadata": {},
   "outputs": [
    {
     "name": "stdin",
     "output_type": "stream",
     "text": [
      "Lütfen C, Ç, P, S harflerinden birini giriniz:  C\n",
      "Seçtiğiniz gün hafta içi mi? Evet - Hayır? Hayır\n"
     ]
    },
    {
     "name": "stdout",
     "output_type": "stream",
     "text": [
      "Seçtiğiniz gün: CUMARTESİ\n"
     ]
    }
   ],
   "source": [
    "hangi_gun()"
   ]
  },
  {
   "cell_type": "markdown",
   "id": "compliant-scratch",
   "metadata": {},
   "source": [
    "---"
   ]
  },
  {
   "cell_type": "markdown",
   "id": "surrounded-asset",
   "metadata": {},
   "source": [
    "**Soru 8:**\n",
    "\n",
    "Kullanıcıdan pozitif bir sayı isteyelim. Girdinin gerçekten tamsayı olup olmadığını kontrol edelim. Ek olarak tam sayı ise bunun pozitif olup olmadığını da kontrol edelim.\n",
    "\n",
    "Bu sayının tek-çift olmasına göre TUHAF mı TUHAF DEĞİL mi, buna karar verelim.\n",
    "\n",
    "* Eğer sayı tek sayı ise TUHAF\n",
    "* Eğer sayı çift ama 1 - 10 (ikisi de dahil) arasında ise TUHAF DEĞİL\n",
    "* Eğer sayı çift ama 11 - 20 (ikisi de dahil) arasında ise TUHAF\n",
    "* Eğer sayı çift ama 20 den büyükse TUHAF DEĞİL"
   ]
  },
  {
   "cell_type": "code",
   "execution_count": 11,
   "id": "separated-grocery",
   "metadata": {},
   "outputs": [],
   "source": [
    "# Çözüm 8:\n",
    "\n",
    "    "
   ]
  },
  {
   "cell_type": "code",
   "execution_count": 17,
   "id": "anonymous-banking",
   "metadata": {},
   "outputs": [
    {
     "name": "stdin",
     "output_type": "stream",
     "text": [
      "Bir sayı girin, size tuhaf mı değil mi, söyleyeyim:  260\n"
     ]
    },
    {
     "name": "stdout",
     "output_type": "stream",
     "text": [
      "TUHAF DEĞİL - 20 den büyük\n"
     ]
    }
   ],
   "source": [
    "tuhaf_mi()"
   ]
  },
  {
   "cell_type": "markdown",
   "id": "lesbian-paragraph",
   "metadata": {},
   "source": [
    "---"
   ]
  },
  {
   "cell_type": "markdown",
   "id": "regulation-definition",
   "metadata": {},
   "source": [
    "**Soru 9:**\n",
    "\n",
    "**TEK-ÇİFT Toplamlar Kuralı:** \n",
    "* İki sayının toplamı Tek ise sayılardan sadece biri Tek'tir.\n",
    "* İki sayının toplamı Çift ise sayıların ikisi Tek ya da ikisi Çift'tir.\n",
    "\n",
    "Kullanıcıdan iki sayı isteyip Tek-Çift Toplamlar Kuralına göre toplamın Tek mi yoksa Çift mi olduğunu bulan bir fonksiyon yazın.\n",
    "\n",
    "**Önemli:** Bu soruyu x + y diyerek, direk toplam değeri üzerinden yapmayınız."
   ]
  },
  {
   "cell_type": "code",
   "execution_count": 18,
   "id": "worse-museum",
   "metadata": {},
   "outputs": [],
   "source": [
    "# Çözüm 9:\n",
    "\n"
   ]
  },
  {
   "cell_type": "code",
   "execution_count": 22,
   "id": "renewable-theta",
   "metadata": {},
   "outputs": [
    {
     "name": "stdin",
     "output_type": "stream",
     "text": [
      "Birinci sayı:  8\n",
      "İkinci sayı:  3\n"
     ]
    },
    {
     "name": "stdout",
     "output_type": "stream",
     "text": [
      "Toplam: TEK\n"
     ]
    }
   ],
   "source": [
    "tek_cift_toplamlar_kurali()"
   ]
  },
  {
   "cell_type": "markdown",
   "id": "suited-making",
   "metadata": {},
   "source": [
    "---"
   ]
  },
  {
   "cell_type": "markdown",
   "id": "tribal-earthquake",
   "metadata": {},
   "source": [
    "**Soru 10:**\n",
    "\n",
    "Kullanıcıdan iki sayı alalım. Bu sayılardan hangisinin küçük, hangisinin büyük olduğunu bulalım.\n",
    "\n",
    "Sonra büyük sayıdan geriye gidip, küçük sayıya kadar olan sayıları ekrana yazalım.\n",
    "\n",
    "**Önemli:** Recursion ile yapınız."
   ]
  },
  {
   "cell_type": "code",
   "execution_count": 31,
   "id": "conceptual-objective",
   "metadata": {},
   "outputs": [],
   "source": [
    "# Çözüm 10:\n",
    "   \n"
   ]
  },
  {
   "cell_type": "code",
   "execution_count": 32,
   "id": "classical-execution",
   "metadata": {},
   "outputs": [
    {
     "name": "stdin",
     "output_type": "stream",
     "text": [
      "Birinici Sayı:  26\n",
      "İkinci Sayı:  12\n"
     ]
    },
    {
     "name": "stdout",
     "output_type": "stream",
     "text": [
      "küçük: 12\n",
      "büyük: 26\n",
      "26\n",
      "25\n",
      "24\n",
      "23\n",
      "22\n",
      "21\n",
      "20\n",
      "19\n",
      "18\n",
      "17\n",
      "16\n",
      "15\n",
      "14\n",
      "13\n",
      "12\n"
     ]
    }
   ],
   "source": [
    "geri_cift_say()"
   ]
  },
  {
   "cell_type": "code",
   "execution_count": null,
   "id": "mature-liberty",
   "metadata": {},
   "outputs": [],
   "source": []
  }
 ],
 "metadata": {
  "kernelspec": {
   "display_name": "Python 3",
   "language": "python",
   "name": "python3"
  },
  "language_info": {
   "codemirror_mode": {
    "name": "ipython",
    "version": 3
   },
   "file_extension": ".py",
   "mimetype": "text/x-python",
   "name": "python",
   "nbconvert_exporter": "python",
   "pygments_lexer": "ipython3",
   "version": "3.8.5"
  }
 },
 "nbformat": 4,
 "nbformat_minor": 5
}
